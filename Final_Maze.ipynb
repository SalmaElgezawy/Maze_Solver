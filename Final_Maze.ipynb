{
 "cells": [
  {
   "cell_type": "code",
   "execution_count": 163,
   "id": "c6adfd58",
   "metadata": {},
   "outputs": [],
   "source": [
    "import random\n",
    "import matplotlib.pyplot as plt\n",
    "import numpy as np"
   ]
  },
  {
   "cell_type": "code",
   "execution_count": 164,
   "id": "bb20bc3c",
   "metadata": {},
   "outputs": [],
   "source": [
    "# Define the function to generate a random maze\n",
    "def generate_random_maze(rows, cols, obstacle_probability=0.3):\n",
    "    return [[0 if random.random() > obstacle_probability else 1 for _ in range(cols)] for _ in range(rows)]"
   ]
  },
  {
   "cell_type": "code",
   "execution_count": 165,
   "id": "ac5e9197",
   "metadata": {},
   "outputs": [
    {
     "name": "stdout",
     "output_type": "stream",
     "text": [
      "Enter the number of rows: 5\n",
      "Enter the number of columns: 5\n",
      "[[0, 1, 1, 0, 1], [1, 0, 0, 0, 0], [0, 0, 0, 0, 1], [0, 0, 0, 0, 1], [0, 0, 0, 0, 1]]\n"
     ]
    }
   ],
   "source": [
    "# Define the grid as a 2D list of 0 (empty) and 1 (obstacle)\n",
    "grid_rows = int(input(\"Enter the number of rows: \"))\n",
    "grid_cols = int(input(\"Enter the number of columns: \"))\n",
    "obstacle_probability = 0.2\n",
    "grid = generate_random_maze(grid_rows, grid_cols, obstacle_probability)\n",
    "print(grid)"
   ]
  },
  {
   "cell_type": "code",
   "execution_count": 166,
   "id": "81aa4fc5",
   "metadata": {},
   "outputs": [],
   "source": [
    "# Define Start & Goal points\n",
    "start = (0, 0)\n",
    "goal = (grid_rows-1), (grid_cols-1)\n",
    "\n",
    "grid[0][0] = 0\n",
    "grid[grid_rows-1][grid_cols-1] = 0"
   ]
  },
  {
   "cell_type": "code",
   "execution_count": 167,
   "id": "c26517b9",
   "metadata": {},
   "outputs": [],
   "source": [
    "def heuristic(node , goal):\n",
    "    return abs(node[0] - goal[0]) + abs(node[1] - goal[1])     # Menhatin Distance"
   ]
  },
  {
   "cell_type": "code",
   "execution_count": 168,
   "id": "7688be7e",
   "metadata": {},
   "outputs": [],
   "source": [
    "def get_children(node):\n",
    "    children= []\n",
    "    r,c = node\n",
    "    \n",
    "    if r > 0 and grid[r-1][c] == 0:    # up\n",
    "        children.append((r-1,c))\n",
    "        \n",
    "    if r < len(grid)-1 and grid[r+1][c]== 0: # down\n",
    "        children.append((r+1,c))\n",
    "       \n",
    "    if c < len(grid[0])-1 and grid[r][c+1] ==0 :   # Right\n",
    "        children.append((r,c+1))\n",
    "        \n",
    "    if c > 0 and grid[r][c-1] == 0:\n",
    "        children.append((r,c-1))\n",
    "        \n",
    "    return children"
   ]
  },
  {
   "cell_type": "code",
   "execution_count": 169,
   "id": "bad0b20f",
   "metadata": {},
   "outputs": [],
   "source": [
    "def astar():\n",
    "    \n",
    "    Frontier =[]\n",
    "    Expanded =[]\n",
    "    \n",
    "    Frontier.append((start , 0 + heuristic(start ,goal) , 0 ,None))\n",
    "    \n",
    "    while Frontier :\n",
    "        Frontier.sort(key = lambda x:x[1])\n",
    "        current = Frontier.pop(0)\n",
    "        node , _ , g , parent = current\n",
    "        \n",
    "        if node == goal :\n",
    "            path = [node]\n",
    "            while parent :\n",
    "               path.append(parent) \n",
    "               parent = next(x[3] for x in Expanded if x[0] == parent)\n",
    "            return path[::-1]\n",
    "        \n",
    "        Expanded.append(current)\n",
    "        children = get_children(node)\n",
    "        for child in children :\n",
    "            g_child = g+1\n",
    "            h_child = heuristic(child ,goal)\n",
    "            \n",
    "            if any(x[0] == child for x in Expanded):\n",
    "                continue\n",
    "            \n",
    "            if any(x[0]== child for x in Frontier):\n",
    "                g_exist = next(x[2] for x in Frontier if x[0] == child)\n",
    "                \n",
    "                if g_exist > g_child:\n",
    "                    Frontier.append(x for x in Frontier if x[0] != child )\n",
    "                    Frontier.append((child , g_child + h_child , g_child , node))\n",
    "            else:\n",
    "               Frontier.append((child , g_child + h_child ,g_child ,node))\n",
    "    return None"
   ]
  },
  {
   "cell_type": "code",
   "execution_count": 170,
   "id": "8d2cc55d",
   "metadata": {},
   "outputs": [
    {
     "name": "stdout",
     "output_type": "stream",
     "text": [
      "No path is found.\n"
     ]
    }
   ],
   "source": [
    "result = astar()\n",
    "if result:\n",
    "    print(\"The shortest path is:\")\n",
    "    for node in result:\n",
    "        print(node)\n",
    "        \n",
    "        \n",
    "    \n",
    "else:\n",
    "    print(\"No path is found.\")"
   ]
  },
  {
   "cell_type": "code",
   "execution_count": 171,
   "id": "4943f667",
   "metadata": {},
   "outputs": [
    {
     "data": {
      "image/png": "[encoded data removed]",
      "text/plain": [
       "<Figure size 640x480 with 1 Axes>"
      ]
     },
     "metadata": {},
     "output_type": "display_data"
    }
   ],
   "source": [
    "grid = np.array(grid)\n",
    "\n",
    "# Create a figure and an axis\n",
    "fig, ax = plt.subplots()\n",
    "\n",
    "# Plot the grid as an image with different colors for obstacles and free cells\n",
    "ax.imshow(grid, cmap=\"Greys\")\n",
    "\n",
    "# Plot the start and goal positions as red and green dots\n",
    "ax.scatter(start[1], start[0], color=\"red\", marker=\"o\", label=\"Start\")\n",
    "ax.scatter(goal[1], goal[0], color=\"green\", marker=\"o\", label=\"Goal\")\n",
    "\n",
    "# Plot the shortest path as a blue line\n",
    "if result:\n",
    "    path = np.array(result)\n",
    "    ax.plot(path[:, 1], path[:, 0], color=\"blue\", label=\"Path\")\n",
    "\n",
    "# Add labels and title\n",
    "ax.set_xlabel(\"Column\")\n",
    "ax.set_ylabel(\"Row\")\n",
    "ax.set_title(\"A* Search on a Grid\")\n",
    "\n",
    "# Add a legend\n",
    "ax.legend()\n",
    "\n",
    "# Show the plot\n",
    "plt.show()"
   ]
  },
  {
   "cell_type": "code",
   "execution_count": null,
   "id": "56360bf0",
   "metadata": {},
   "outputs": [],
   "source": []
  }
 ],
 "metadata": {
  "kernelspec": {
   "display_name": "Python 3 (ipykernel)",
   "language": "python",
   "name": "python3"
  },
  "language_info": {
   "codemirror_mode": {
    "name": "ipython",
    "version": 3
   },
   "file_extension": ".py",
   "mimetype": "text/x-python",
   "name": "python",
   "nbconvert_exporter": "python",
   "pygments_lexer": "ipython3",
   "version": "3.9.13"
  }
 },
 "nbformat": 4,
 "nbformat_minor": 5
}
